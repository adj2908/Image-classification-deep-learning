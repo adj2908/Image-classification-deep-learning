{
 "cells": [
  {
   "cell_type": "markdown",
   "metadata": {
    "collapsed": true
   },
   "source": [
    "# Image Classification\n",
    "In this project, you'll classify images from the [CIFAR-10 dataset](https://www.cs.toronto.edu/~kriz/cifar.html).  The dataset consists of airplanes, dogs, cats, and other objects. You'll preprocess the images, then train a convolutional neural network on all the samples. The images need to be normalized and the labels need to be one-hot encoded.  You'll get to apply what you learned and build a convolutional, max pooling, dropout, and fully connected layers.  At the end, you'll get to see your neural network's predictions on the sample images.\n",
    "## Get the Data\n",
    "Run the following cell to download the [CIFAR-10 dataset for python](https://www.cs.toronto.edu/~kriz/cifar-10-python.tar.gz)."
   ]
  },
  {
   "cell_type": "code",
   "execution_count": 1,
   "metadata": {
    "collapsed": false
   },
   "outputs": [
    {
     "name": "stdout",
     "output_type": "stream",
     "text": [
      "All files found!\n"
     ]
    }
   ],
   "source": [
    "\"\"\"\n",
    "DON'T MODIFY ANYTHING IN THIS CELL THAT IS BELOW THIS LINE\n",
    "\"\"\"\n",
    "from urllib.request import urlretrieve\n",
    "from os.path import isfile, isdir\n",
    "from tqdm import tqdm\n",
    "import problem_unittests as tests\n",
    "import tarfile\n",
    "\n",
    "cifar10_dataset_folder_path = 'cifar-10-batches-py'\n",
    "\n",
    "class DLProgress(tqdm):\n",
    "    last_block = 0\n",
    "\n",
    "    def hook(self, block_num=1, block_size=1, total_size=None):\n",
    "        self.total = total_size\n",
    "        self.update((block_num - self.last_block) * block_size)\n",
    "        self.last_block = block_num\n",
    "\n",
    "if not isfile('cifar-10-python.tar.gz'):\n",
    "    with DLProgress(unit='B', unit_scale=True, miniters=1, desc='CIFAR-10 Dataset') as pbar:\n",
    "        urlretrieve(\n",
    "            'https://www.cs.toronto.edu/~kriz/cifar-10-python.tar.gz',\n",
    "            'cifar-10-python.tar.gz',\n",
    "            pbar.hook)\n",
    "\n",
    "if not isdir(cifar10_dataset_folder_path):\n",
    "    with tarfile.open('cifar-10-python.tar.gz') as tar:\n",
    "        tar.extractall()\n",
    "        tar.close()\n",
    "\n",
    "\n",
    "tests.test_folder_path(cifar10_dataset_folder_path)"
   ]
  },
  {
   "cell_type": "markdown",
   "metadata": {},
   "source": [
    "## Explore the Data\n",
    "The dataset is broken into batches to prevent your machine from running out of memory.  The CIFAR-10 dataset consists of 5 batches, named `data_batch_1`, `data_batch_2`, etc.. Each batch contains the labels and images that are one of the following:\n",
    "* airplane\n",
    "* automobile\n",
    "* bird\n",
    "* cat\n",
    "* deer\n",
    "* dog\n",
    "* frog\n",
    "* horse\n",
    "* ship\n",
    "* truck\n",
    "\n",
    "Understanding a dataset is part of making predictions on the data.  Play around with the code cell below by changing the `batch_id` and `sample_id`. The `batch_id` is the id for a batch (1-5). The `sample_id` is the id for a image and label pair in the batch.\n",
    "\n",
    "Ask yourself \"What are all possible labels?\", \"What is the range of values for the image data?\", \"Are the labels in order or random?\".  Answers to questions like these will help you preprocess the data and end up with better predictions."
   ]
  },
  {
   "cell_type": "code",
   "execution_count": 2,
   "metadata": {
    "collapsed": false
   },
   "outputs": [
    {
     "name": "stdout",
     "output_type": "stream",
     "text": [
      "\n",
      "Stats of batch 1:\n",
      "Samples: 10000\n",
      "Label Counts: {0: 1005, 1: 974, 2: 1032, 3: 1016, 4: 999, 5: 937, 6: 1030, 7: 1001, 8: 1025, 9: 981}\n",
      "First 20 Labels: [6, 9, 9, 4, 1, 1, 2, 7, 8, 3, 4, 7, 7, 2, 9, 9, 9, 3, 2, 6]\n",
      "\n",
      "Example of Image 5:\n",
      "Image - Min Value: 0 Max Value: 252\n",
      "Image - Shape: (32, 32, 3)\n",
      "Label - Label Id: 1 Name: automobile\n"
     ]
    },
    {
     "data": {
      "image/png": "[encoded data removed]",
      "text/plain": [
       "<matplotlib.figure.Figure at 0x118ae7e80>"
      ]
     },
     "metadata": {
      "image/png": {
       "height": 250,
       "width": 253
      }
     },
     "output_type": "display_data"
    }
   ],
   "source": [
    "%matplotlib inline\n",
    "%config InlineBackend.figure_format = 'retina'\n",
    "\n",
    "import helper\n",
    "import numpy as np\n",
    "\n",
    "# Explore the dataset\n",
    "batch_id = 1\n",
    "sample_id = 5\n",
    "helper.display_stats(cifar10_dataset_folder_path, batch_id, sample_id)"
   ]
  },
  {
   "cell_type": "markdown",
   "metadata": {},
   "source": [
    "## Implement Preprocess Functions\n",
    "### Normalize\n",
    "In the cell below, implement the `normalize` function to take in image data, `x`, and return it as a normalized Numpy array. The values should be in the range of 0 to 1, inclusive.  The return object should be the same shape as `x`."
   ]
  },
  {
   "cell_type": "code",
   "execution_count": 3,
   "metadata": {
    "collapsed": false
   },
   "outputs": [
    {
     "name": "stdout",
     "output_type": "stream",
     "text": [
      "Tests Passed\n"
     ]
    }
   ],
   "source": [
    "def normalize(x):\n",
    "    \"\"\"\n",
    "    Normalize a list of sample image data in the range of 0 to 1\n",
    "    : x: List of image data.  The image shape is (32, 32, 3)\n",
    "    : return: Numpy array of normalize data\n",
    "    \"\"\"\n",
    "    # TODO: Implement Function\n",
    "    return np.array(x / 255)\n",
    "\n",
    "\n",
    "\"\"\"\n",
    "DON'T MODIFY ANYTHING IN THIS CELL THAT IS BELOW THIS LINE\n",
    "\"\"\"\n",
    "tests.test_normalize(normalize)"
   ]
  },
  {
   "cell_type": "markdown",
   "metadata": {},
   "source": [
    "### One-hot encode\n",
    "Just like the previous code cell, you'll be implementing a function for preprocessing.  This time, you'll implement the `one_hot_encode` function. The input, `x`, are a list of labels.  Implement the function to return the list of labels as One-Hot encoded Numpy array.  The possible values for labels are 0 to 9. The one-hot encoding function should return the same encoding for each value between each call to `one_hot_encode`.  Make sure to save the map of encodings outside the function.\n",
    "\n",
    "Hint: Don't reinvent the wheel."
   ]
  },
  {
   "cell_type": "code",
   "execution_count": 4,
   "metadata": {
    "collapsed": false
   },
   "outputs": [
    {
     "name": "stdout",
     "output_type": "stream",
     "text": [
      "Tests Passed\n"
     ]
    }
   ],
   "source": [
    "def one_hot_encode(x):\n",
    "    \"\"\"\n",
    "    One hot encode a list of sample labels. Return a one-hot encoded vector for each label.\n",
    "    : x: List of sample Labels\n",
    "    : return: Numpy array of one-hot encoded labels\n",
    "    \"\"\"\n",
    "    # TODO: Implement Function\n",
    "    return np.eye(10)[x]\n",
    "\n",
    "\n",
    "\"\"\"\n",
    "DON'T MODIFY ANYTHING IN THIS CELL THAT IS BELOW THIS LINE\n",
    "\"\"\"\n",
    "tests.test_one_hot_encode(one_hot_encode)"
   ]
  },
  {
   "cell_type": "markdown",
   "metadata": {},
   "source": [
    "### Randomize Data\n",
    "As you saw from exploring the data above, the order of the samples are randomized.  It doesn't hurt to randomize it again, but you don't need to for this dataset."
   ]
  },
  {
   "cell_type": "markdown",
   "metadata": {},
   "source": [
    "## Preprocess all the data and save it\n",
    "Running the code cell below will preprocess all the CIFAR-10 data and save it to file. The code below also uses 10% of the training data for validation."
   ]
  },
  {
   "cell_type": "code",
   "execution_count": 5,
   "metadata": {
    "collapsed": false
   },
   "outputs": [],
   "source": [
    "\"\"\"\n",
    "DON'T MODIFY ANYTHING IN THIS CELL\n",
    "\"\"\"\n",
    "# Preprocess Training, Validation, and Testing Data\n",
    "helper.preprocess_and_save_data(cifar10_dataset_folder_path, normalize, one_hot_encode)"
   ]
  },
  {
   "cell_type": "markdown",
   "metadata": {},
   "source": [
    "# Check Point\n",
    "This is your first checkpoint.  If you ever decide to come back to this notebook or have to restart the notebook, you can start from here.  The preprocessed data has been saved to disk."
   ]
  },
  {
   "cell_type": "code",
   "execution_count": 6,
   "metadata": {
    "collapsed": true
   },
   "outputs": [],
   "source": [
    "\"\"\"\n",
    "DON'T MODIFY ANYTHING IN THIS CELL\n",
    "\"\"\"\n",
    "import pickle\n",
    "import problem_unittests as tests\n",
    "import helper\n",
    "\n",
    "# Load the Preprocessed Validation data\n",
    "valid_features, valid_labels = pickle.load(open('preprocess_validation.p', mode='rb'))"
   ]
  },
  {
   "cell_type": "markdown",
   "metadata": {},
   "source": [
    "## Build the network\n",
    "For the neural network, you'll build each layer into a function.  Most of the code you've seen has been outside of functions. To test your code more thoroughly, we require that you put each layer in a function.  This allows us to give you better feedback and test for simple mistakes using our unittests before you submit your project.\n",
    "\n",
    ">**Note:** If you're finding it hard to dedicate enough time for this course each week, we've provided a small shortcut to this part of the project. In the next couple of problems, you'll have the option to use classes from the [TensorFlow Layers](https://www.tensorflow.org/api_docs/python/tf/layers) or [TensorFlow Layers (contrib)](https://www.tensorflow.org/api_guides/python/contrib.layers) packages to build each layer, except the layers you build in the \"Convolutional and Max Pooling Layer\" section.  TF Layers is similar to Keras's and TFLearn's abstraction to layers, so it's easy to pickup.\n",
    "\n",
    ">However, if you would like to get the most out of this course, try to solve all the problems _without_ using anything from the TF Layers packages. You **can** still use classes from other packages that happen to have the same name as ones you find in TF Layers! For example, instead of using the TF Layers version of the `conv2d` class, [tf.layers.conv2d](https://www.tensorflow.org/api_docs/python/tf/layers/conv2d), you would want to use the TF Neural Network version of `conv2d`, [tf.nn.conv2d](https://www.tensorflow.org/api_docs/python/tf/nn/conv2d). \n",
    "\n",
    "Let's begin!\n",
    "\n",
    "### Input\n",
    "The neural network needs to read the image data, one-hot encoded labels, and dropout keep probability. Implement the following functions\n",
    "* Implement `neural_net_image_input`\n",
    " * Return a [TF Placeholder](https://www.tensorflow.org/api_docs/python/tf/placeholder)\n",
    " * Set the shape using `image_shape` with batch size set to `None`.\n",
    " * Name the TensorFlow placeholder \"x\" using the TensorFlow `name` parameter in the [TF Placeholder](https://www.tensorflow.org/api_docs/python/tf/placeholder).\n",
    "* Implement `neural_net_label_input`\n",
    " * Return a [TF Placeholder](https://www.tensorflow.org/api_docs/python/tf/placeholder)\n",
    " * Set the shape using `n_classes` with batch size set to `None`.\n",
    " * Name the TensorFlow placeholder \"y\" using the TensorFlow `name` parameter in the [TF Placeholder](https://www.tensorflow.org/api_docs/python/tf/placeholder).\n",
    "* Implement `neural_net_keep_prob_input`\n",
    " * Return a [TF Placeholder](https://www.tensorflow.org/api_docs/python/tf/placeholder) for dropout keep probability.\n",
    " * Name the TensorFlow placeholder \"keep_prob\" using the TensorFlow `name` parameter in the [TF Placeholder](https://www.tensorflow.org/api_docs/python/tf/placeholder).\n",
    "\n",
    "These names will be used at the end of the project to load your saved model.\n",
    "\n",
    "Note: `None` for shapes in TensorFlow allow for a dynamic size."
   ]
  },
  {
   "cell_type": "code",
   "execution_count": 17,
   "metadata": {
    "collapsed": false
   },
   "outputs": [
    {
     "name": "stdout",
     "output_type": "stream",
     "text": [
      "Image Input Tests Passed.\n",
      "Label Input Tests Passed.\n",
      "Keep Prob Tests Passed.\n"
     ]
    }
   ],
   "source": [
    "import tensorflow as tf\n",
    "\n",
    "def neural_net_image_input(image_shape):\n",
    "    \"\"\"\n",
    "    Return a Tensor for a bach of image input\n",
    "    : image_shape: Shape of the images\n",
    "    : return: Tensor for image input.\n",
    "    \"\"\"\n",
    "    # TODO: Implement Function\n",
    "    return tf.placeholder(tf.float32, shape=(None, image_shape[0], image_shape[1], image_shape[2]), name='x')\n",
    "\n",
    "\n",
    "def neural_net_label_input(n_classes):\n",
    "    \"\"\"\n",
    "    Return a Tensor for a batch of label input\n",
    "    : n_classes: Number of classes\n",
    "    : return: Tensor for label input.\n",
    "    \"\"\"\n",
    "    # TODO: Implement Function\n",
    "    return tf.placeholder(tf.float32, shape=(None, n_classes), name='y')\n",
    "\n",
    "\n",
    "def neural_net_keep_prob_input():\n",
    "    \"\"\"\n",
    "    Return a Tensor for keep probability\n",
    "    : return: Tensor for keep probability.\n",
    "    \"\"\"\n",
    "    # TODO: Implement Function\n",
    "    return tf.placeholder(tf.float32, name='keep_prob')\n",
    "\n",
    "\n",
    "\"\"\"\n",
    "DON'T MODIFY ANYTHING IN THIS CELL THAT IS BELOW THIS LINE\n",
    "\"\"\"\n",
    "tf.reset_default_graph()\n",
    "tests.test_nn_image_inputs(neural_net_image_input)\n",
    "tests.test_nn_label_inputs(neural_net_label_input)\n",
    "tests.test_nn_keep_prob_inputs(neural_net_keep_prob_input)"
   ]
  },
  {
   "cell_type": "markdown",
   "metadata": {},
   "source": [
    "### Convolution and Max Pooling Layer\n",
    "Convolution layers have a lot of success with images. For this code cell, you should implement the function `conv2d_maxpool` to apply convolution then max pooling:\n",
    "* Create the weight and bias using `conv_ksize`, `conv_num_outputs` and the shape of `x_tensor`.\n",
    "* Apply a convolution to `x_tensor` using weight and `conv_strides`.\n",
    " * We recommend you use same padding, but you're welcome to use any padding.\n",
    "* Add bias\n",
    "* Add a nonlinear activation to the convolution.\n",
    "* Apply Max Pooling using `pool_ksize` and `pool_strides`.\n",
    " * We recommend you use same padding, but you're welcome to use any padding.\n",
    "\n",
    "**Note:** You **can't** use [TensorFlow Layers](https://www.tensorflow.org/api_docs/python/tf/layers) or [TensorFlow Layers (contrib)](https://www.tensorflow.org/api_guides/python/contrib.layers) for **this** layer, but you can still use TensorFlow's [Neural Network](https://www.tensorflow.org/api_docs/python/tf/nn) package. You may still use the shortcut option for all the **other** layers."
   ]
  },
  {
   "cell_type": "code",
   "execution_count": 18,
   "metadata": {
    "collapsed": false
   },
   "outputs": [
    {
     "name": "stdout",
     "output_type": "stream",
     "text": [
      "Tests Passed\n"
     ]
    }
   ],
   "source": [
    "def conv2d_maxpool(x_tensor, conv_num_outputs, conv_ksize, conv_strides, pool_ksize, pool_strides):\n",
    "    \"\"\"\n",
    "    Apply convolution then max pooling to x_tensor\n",
    "    :param x_tensor: TensorFlow Tensor\n",
    "    :param conv_num_outputs: Number of outputs for the convolutional layer\n",
    "    :param conv_ksize: kernal size 2-D Tuple for the convolutional layer\n",
    "    :param conv_strides: Stride 2-D Tuple for convolution\n",
    "    :param pool_ksize: kernal size 2-D Tuple for pool\n",
    "    :param pool_strides: Stride 2-D Tuple for pool\n",
    "    : return: A tensor that represents convolution and max pooling of x_tensor\n",
    "    \"\"\"\n",
    "    # TODO: Implement Function\n",
    "\n",
    "    conv_ksize = [1, conv_ksize[0], conv_ksize[1], 1]\n",
    "    conv_num_inputs = x_tensor.get_shape().as_list()[3]\n",
    "    \n",
    "    conv_weight = tf.Variable(tf.truncated_normal([conv_ksize[0], conv_ksize[1], conv_num_inputs, conv_num_outputs], stddev=0.1))\n",
    "    conv_bias = tf.Variable(tf.zeros(conv_num_outputs))\n",
    "    \n",
    "    strides = [1, conv_strides[0],conv_strides[1],1]\n",
    "    \n",
    "    conv = tf.nn.conv2d(x_tensor, conv_weight, strides=strides,padding='SAME') + conv_bias\n",
    "    conv = tf.nn.relu(conv)\n",
    "    \n",
    "    pool_ksize = [1, pool_ksize[0], pool_ksize[1], 1]\n",
    "    pool_strides = [1, pool_strides[0], pool_strides[1], 1]\n",
    "    max_pooling_conv = tf.nn.max_pool(conv, ksize=pool_ksize,strides=pool_strides,padding='SAME')\n",
    "    \n",
    "    return max_pooling_conv\n",
    "\n",
    "\"\"\"\n",
    "DON'T MODIFY ANYTHING IN THIS CELL THAT IS BELOW THIS LINE\n",
    "\"\"\"\n",
    "tests.test_con_pool(conv2d_maxpool)"
   ]
  },
  {
   "cell_type": "markdown",
   "metadata": {},
   "source": [
    "### Flatten Layer\n",
    "Implement the `flatten` function to change the dimension of `x_tensor` from a 4-D tensor to a 2-D tensor.  The output should be the shape (*Batch Size*, *Flattened Image Size*). Shortcut option: you can use classes from the [TensorFlow Layers](https://www.tensorflow.org/api_docs/python/tf/layers) or [TensorFlow Layers (contrib)](https://www.tensorflow.org/api_guides/python/contrib.layers) packages for this layer. For more of a challenge, only use other TensorFlow packages."
   ]
  },
  {
   "cell_type": "code",
   "execution_count": 19,
   "metadata": {
    "collapsed": false
   },
   "outputs": [
    {
     "name": "stdout",
     "output_type": "stream",
     "text": [
      "Tests Passed\n"
     ]
    }
   ],
   "source": [
    "def flatten(x_tensor):\n",
    "    \"\"\"\n",
    "    Flatten x_tensor to (Batch Size, Flattened Image Size)\n",
    "    : x_tensor: A tensor of size (Batch Size, ...), where ... are the image dimensions.\n",
    "    : return: A tensor of size (Batch Size, Flattened Image Size).\n",
    "    \"\"\"\n",
    "    # TODO: Implement Function\n",
    "    return tf.contrib.layers.flatten(x_tensor)\n",
    "\n",
    "\n",
    "\"\"\"\n",
    "DON'T MODIFY ANYTHING IN THIS CELL THAT IS BELOW THIS LINE\n",
    "\"\"\"\n",
    "tests.test_flatten(flatten)"
   ]
  },
  {
   "cell_type": "markdown",
   "metadata": {},
   "source": [
    "### Fully-Connected Layer\n",
    "Implement the `fully_conn` function to apply a fully connected layer to `x_tensor` with the shape (*Batch Size*, *num_outputs*). Shortcut option: you can use classes from the [TensorFlow Layers](https://www.tensorflow.org/api_docs/python/tf/layers) or [TensorFlow Layers (contrib)](https://www.tensorflow.org/api_guides/python/contrib.layers) packages for this layer. For more of a challenge, only use other TensorFlow packages."
   ]
  },
  {
   "cell_type": "code",
   "execution_count": 20,
   "metadata": {
    "collapsed": false
   },
   "outputs": [
    {
     "name": "stdout",
     "output_type": "stream",
     "text": [
      "Tests Passed\n"
     ]
    }
   ],
   "source": [
    "def fully_conn(x_tensor, num_outputs):\n",
    "    \"\"\"\n",
    "    Apply a fully connected layer to x_tensor using weight and bias\n",
    "    : x_tensor: A 2-D tensor where the first dimension is batch size.\n",
    "    : num_outputs: The number of output that the new tensor should be.\n",
    "    : return: A 2-D tensor where the second dimension is num_outputs.\n",
    "    \"\"\"\n",
    "    # TODO: Implement Function\n",
    "    width = x_tensor.get_shape().as_list()[1]\n",
    "    weight = tf.Variable(tf.truncated_normal(([width, num_outputs]), stddev=0.1))\n",
    "    bias = tf.Variable(tf.zeros(num_outputs))\n",
    "    output = tf.add(tf.matmul(x_tensor, weight), bias)\n",
    "    return tf.nn.relu(output)\n",
    "\n",
    "\n",
    "\"\"\"\n",
    "DON'T MODIFY ANYTHING IN THIS CELL THAT IS BELOW THIS LINE\n",
    "\"\"\"\n",
    "tests.test_fully_conn(fully_conn)"
   ]
  },
  {
   "cell_type": "markdown",
   "metadata": {},
   "source": [
    "### Output Layer\n",
    "Implement the `output` function to apply a fully connected layer to `x_tensor` with the shape (*Batch Size*, *num_outputs*). Shortcut option: you can use classes from the [TensorFlow Layers](https://www.tensorflow.org/api_docs/python/tf/layers) or [TensorFlow Layers (contrib)](https://www.tensorflow.org/api_guides/python/contrib.layers) packages for this layer. For more of a challenge, only use other TensorFlow packages.\n",
    "\n",
    "**Note:** Activation, softmax, or cross entropy should **not** be applied to this."
   ]
  },
  {
   "cell_type": "code",
   "execution_count": 21,
   "metadata": {
    "collapsed": false
   },
   "outputs": [
    {
     "name": "stdout",
     "output_type": "stream",
     "text": [
      "Tests Passed\n"
     ]
    }
   ],
   "source": [
    "def output(x_tensor, num_outputs):\n",
    "    \"\"\"\n",
    "    Apply a output layer to x_tensor using weight and bias\n",
    "    : x_tensor: A 2-D tensor where the first dimension is batch size.\n",
    "    : num_outputs: The number of output that the new tensor should be.\n",
    "    : return: A 2-D tensor where the second dimension is num_outputs.\n",
    "    \"\"\"\n",
    "    # TODO: Implement Function\n",
    "    width = x_tensor.get_shape().as_list()[1]    \n",
    "    weight = tf.Variable(tf.truncated_normal([width, num_outputs], stddev=0.1))\n",
    "    bias = tf.Variable(tf.zeros(num_outputs))\n",
    "    output = tf.nn.bias_add(tf.matmul(x_tensor,weight), bias)\n",
    "    return output\n",
    "\n",
    "\n",
    "\"\"\"\n",
    "DON'T MODIFY ANYTHING IN THIS CELL THAT IS BELOW THIS LINE\n",
    "\"\"\"\n",
    "tests.test_output(output)"
   ]
  },
  {
   "cell_type": "markdown",
   "metadata": {},
   "source": [
    "### Create Convolutional Model\n",
    "Implement the function `conv_net` to create a convolutional neural network model. The function takes in a batch of images, `x`, and outputs logits.  Use the layers you created above to create this model:\n",
    "\n",
    "* Apply 1, 2, or 3 Convolution and Max Pool layers\n",
    "* Apply a Flatten Layer\n",
    "* Apply 1, 2, or 3 Fully Connected Layers\n",
    "* Apply an Output Layer\n",
    "* Return the output\n",
    "* Apply [TensorFlow's Dropout](https://www.tensorflow.org/api_docs/python/tf/nn/dropout) to one or more layers in the model using `keep_prob`. "
   ]
  },
  {
   "cell_type": "code",
   "execution_count": 30,
   "metadata": {
    "collapsed": false
   },
   "outputs": [
    {
     "name": "stdout",
     "output_type": "stream",
     "text": [
      "Neural Network Built!\n"
     ]
    }
   ],
   "source": [
    "def conv_net(x, keep_prob):\n",
    "    \"\"\"\n",
    "    Create a convolutional neural network model\n",
    "    : x: Placeholder tensor that holds image data.\n",
    "    : keep_prob: Placeholder tensor that hold dropout keep probability.\n",
    "    : return: Tensor that represents logits\n",
    "    \"\"\"\n",
    "    # TODO: Apply 1, 2, or 3 Convolution and Max Pool layers\n",
    "    #    Play around with different number of outputs, kernel size and stride\n",
    "    # Function Definition from Above:\n",
    "    #    conv2d_maxpool(x_tensor, conv_num_outputs, conv_ksize, conv_strides, pool_ksize, pool_strides)\n",
    "    \n",
    "    conv_num_outputs_1 = 32\n",
    "    conv_num_outputs_2 = 64\n",
    "    conv_num_outputs_3 = 128\n",
    "    \n",
    "    conv_ksize = [3, 3]\n",
    "    conv_strides = [1, 1]\n",
    "    pool_ksize = [2, 2]\n",
    "    pool_strides = [2, 2]\n",
    "    \n",
    "    conv_layer_1 = conv2d_maxpool(x, conv_num_outputs_1, conv_ksize, conv_strides, pool_ksize, pool_strides)\n",
    "    conv_layer_2 = conv2d_maxpool(conv_layer_1, conv_num_outputs_2, conv_ksize, conv_strides, pool_ksize, pool_strides)\n",
    "    conv_layer_3 = conv2d_maxpool(conv_layer_2, conv_num_outputs_3, conv_ksize, conv_strides, pool_ksize, pool_strides)\n",
    "    \n",
    "    \n",
    "    # TODO: Apply a Flatten Layer\n",
    "    # Function Definition from Above:\n",
    "    #   flatten(x_tensor)\n",
    "    \n",
    "    flatten_layer = flatten(conv_layer_3)\n",
    "\n",
    "\n",
    "    # TODO: Apply 1, 2, or 3 Fully Connected Layers\n",
    "    #    Play around with different number of outputs\n",
    "    # Function Definition from Above:\n",
    "    #   fully_conn(x_tensor, num_outputs)\n",
    "    \n",
    "    fully_connected_layer_1 = fully_conn(flatten_layer, 100)\n",
    "    fully_dropout = tf.nn.dropout(fully_connected_layer_1, keep_prob)\n",
    "    \n",
    "    fully_connected_layer_2 = fully_conn(fully_dropout, 100)\n",
    "\n",
    "    \n",
    "    \n",
    "    # TODO: Apply an Output Layer\n",
    "    #    Set this to the number of classes\n",
    "    # Function Definition from Above:\n",
    "    #   output(x_tensor, num_outputs)\n",
    "    \n",
    "    output_layer = output(fully_connected_layer_2, 10)\n",
    "\n",
    "    \n",
    "    # TODO: return output\n",
    "    return output_layer\n",
    "\n",
    "\n",
    "\"\"\"\n",
    "DON'T MODIFY ANYTHING IN THIS CELL THAT IS BELOW THIS LINE\n",
    "\"\"\"\n",
    "\n",
    "##############################\n",
    "## Build the Neural Network ##\n",
    "##############################\n",
    "\n",
    "# Remove previous weights, bias, inputs, etc..\n",
    "tf.reset_default_graph()\n",
    "\n",
    "# Inputs\n",
    "x = neural_net_image_input((32, 32, 3))\n",
    "y = neural_net_label_input(10)\n",
    "keep_prob = neural_net_keep_prob_input()\n",
    "\n",
    "# Model\n",
    "logits = conv_net(x, keep_prob)\n",
    "\n",
    "# Name logits Tensor, so that is can be loaded from disk after training\n",
    "logits = tf.identity(logits, name='logits')\n",
    "\n",
    "# Loss and Optimizer\n",
    "cost = tf.reduce_mean(tf.nn.softmax_cross_entropy_with_logits(logits=logits, labels=y))\n",
    "optimizer = tf.train.AdamOptimizer().minimize(cost)\n",
    "\n",
    "# Accuracy\n",
    "correct_pred = tf.equal(tf.argmax(logits, 1), tf.argmax(y, 1))\n",
    "accuracy = tf.reduce_mean(tf.cast(correct_pred, tf.float32), name='accuracy')\n",
    "\n",
    "tests.test_conv_net(conv_net)"
   ]
  },
  {
   "cell_type": "markdown",
   "metadata": {},
   "source": [
    "## Train the Neural Network\n",
    "### Single Optimization\n",
    "Implement the function `train_neural_network` to do a single optimization.  The optimization should use `optimizer` to optimize in `session` with a `feed_dict` of the following:\n",
    "* `x` for image input\n",
    "* `y` for labels\n",
    "* `keep_prob` for keep probability for dropout\n",
    "\n",
    "This function will be called for each batch, so `tf.global_variables_initializer()` has already been called.\n",
    "\n",
    "Note: Nothing needs to be returned. This function is only optimizing the neural network."
   ]
  },
  {
   "cell_type": "code",
   "execution_count": 31,
   "metadata": {
    "collapsed": false
   },
   "outputs": [
    {
     "name": "stdout",
     "output_type": "stream",
     "text": [
      "Tests Passed\n"
     ]
    }
   ],
   "source": [
    "def train_neural_network(session, optimizer, keep_probability, feature_batch, label_batch):\n",
    "    \"\"\"\n",
    "    Optimize the session on a batch of images and labels\n",
    "    : session: Current TensorFlow session\n",
    "    : optimizer: TensorFlow optimizer function\n",
    "    : keep_probability: keep probability\n",
    "    : feature_batch: Batch of Numpy image data\n",
    "    : label_batch: Batch of Numpy label data\n",
    "    \"\"\"\n",
    "    # TODO: Implement Function\n",
    "    session.run(optimizer, feed_dict={x: feature_batch, y:label_batch, keep_prob: keep_probability})\n",
    "\n",
    "\n",
    "\"\"\"\n",
    "DON'T MODIFY ANYTHING IN THIS CELL THAT IS BELOW THIS LINE\n",
    "\"\"\"\n",
    "tests.test_train_nn(train_neural_network)"
   ]
  },
  {
   "cell_type": "markdown",
   "metadata": {},
   "source": [
    "### Show Stats\n",
    "Implement the function `print_stats` to print loss and validation accuracy.  Use the global variables `valid_features` and `valid_labels` to calculate validation accuracy.  Use a keep probability of `1.0` to calculate the loss and validation accuracy."
   ]
  },
  {
   "cell_type": "code",
   "execution_count": 32,
   "metadata": {
    "collapsed": false
   },
   "outputs": [],
   "source": [
    "def print_stats(session, feature_batch, label_batch, cost, accuracy):\n",
    "    \"\"\"\n",
    "    Print information about loss and validation accuracy\n",
    "    : session: Current TensorFlow session\n",
    "    : feature_batch: Batch of Numpy image data\n",
    "    : label_batch: Batch of Numpy label data\n",
    "    : cost: TensorFlow cost function\n",
    "    : accuracy: TensorFlow accuracy function\n",
    "    \"\"\"\n",
    "    # TODO: Implement Function\n",
    "    loss = session.run(cost, feed_dict={x:feature_batch, y:label_batch, keep_prob: 1.0})\n",
    "    accuracy = session.run(accuracy, feed_dict={x: valid_features, y:valid_labels, keep_prob:1.0})\n",
    "    \n",
    "    print(' Loss : {} '.format(loss))\n",
    "    print(' Validation Accuracy : {} '.format(accuracy))"
   ]
  },
  {
   "cell_type": "markdown",
   "metadata": {},
   "source": [
    "### Hyperparameters\n",
    "Tune the following parameters:\n",
    "* Set `epochs` to the number of iterations until the network stops learning or start overfitting\n",
    "* Set `batch_size` to the highest number that your machine has memory for.  Most people set them to common sizes of memory:\n",
    " * 64\n",
    " * 128\n",
    " * 256\n",
    " * ...\n",
    "* Set `keep_probability` to the probability of keeping a node using dropout"
   ]
  },
  {
   "cell_type": "code",
   "execution_count": 33,
   "metadata": {
    "collapsed": true
   },
   "outputs": [],
   "source": [
    "# TODO: Tune Parameters\n",
    "epochs = 30\n",
    "batch_size = 128\n",
    "keep_probability = 0.8"
   ]
  },
  {
   "cell_type": "markdown",
   "metadata": {},
   "source": [
    "### Train on a Single CIFAR-10 Batch\n",
    "Instead of training the neural network on all the CIFAR-10 batches of data, let's use a single batch. This should save time while you iterate on the model to get a better accuracy.  Once the final validation accuracy is 50% or greater, run the model on all the data in the next section."
   ]
  },
  {
   "cell_type": "code",
   "execution_count": 34,
   "metadata": {
    "collapsed": false
   },
   "outputs": [
    {
     "name": "stdout",
     "output_type": "stream",
     "text": [
      "Checking the Training on a Single Batch...\n",
      "Epoch  1, CIFAR-10 Batch 1:   Loss : 2.120245933532715 \n",
      " Validation Accuracy : 0.28780001401901245 \n",
      "Epoch  2, CIFAR-10 Batch 1:   Loss : 1.8715238571166992 \n",
      " Validation Accuracy : 0.37299999594688416 \n",
      "Epoch  3, CIFAR-10 Batch 1:   Loss : 1.6913859844207764 \n",
      " Validation Accuracy : 0.4214000105857849 \n",
      "Epoch  4, CIFAR-10 Batch 1:   Loss : 1.5554611682891846 \n",
      " Validation Accuracy : 0.4438000023365021 \n",
      "Epoch  5, CIFAR-10 Batch 1:   Loss : 1.433849573135376 \n",
      " Validation Accuracy : 0.4586000144481659 \n",
      "Epoch  6, CIFAR-10 Batch 1:   Loss : 1.3594505786895752 \n",
      " Validation Accuracy : 0.4747999906539917 \n",
      "Epoch  7, CIFAR-10 Batch 1:   Loss : 1.2988569736480713 \n",
      " Validation Accuracy : 0.498199999332428 \n",
      "Epoch  8, CIFAR-10 Batch 1:   Loss : 1.280083179473877 \n",
      " Validation Accuracy : 0.5109999775886536 \n",
      "Epoch  9, CIFAR-10 Batch 1:   Loss : 1.1628811359405518 \n",
      " Validation Accuracy : 0.5080000162124634 \n",
      "Epoch 10, CIFAR-10 Batch 1:   Loss : 1.1627646684646606 \n",
      " Validation Accuracy : 0.5199999809265137 \n",
      "Epoch 11, CIFAR-10 Batch 1:   Loss : 1.0075078010559082 \n",
      " Validation Accuracy : 0.5325999855995178 \n",
      "Epoch 12, CIFAR-10 Batch 1:   Loss : 0.9689142107963562 \n",
      " Validation Accuracy : 0.546999990940094 \n",
      "Epoch 13, CIFAR-10 Batch 1:   Loss : 0.8395832180976868 \n",
      " Validation Accuracy : 0.5546000003814697 \n",
      "Epoch 14, CIFAR-10 Batch 1:   Loss : 0.7863742113113403 \n",
      " Validation Accuracy : 0.5526000261306763 \n",
      "Epoch 15, CIFAR-10 Batch 1:   Loss : 0.7051854133605957 \n",
      " Validation Accuracy : 0.5608000159263611 \n",
      "Epoch 16, CIFAR-10 Batch 1:   Loss : 0.6331992745399475 \n",
      " Validation Accuracy : 0.5612000226974487 \n",
      "Epoch 17, CIFAR-10 Batch 1:   Loss : 0.6008756756782532 \n",
      " Validation Accuracy : 0.5565999746322632 \n",
      "Epoch 18, CIFAR-10 Batch 1:   Loss : 0.5556215643882751 \n",
      " Validation Accuracy : 0.5551999807357788 \n",
      "Epoch 19, CIFAR-10 Batch 1:   Loss : 0.4997885823249817 \n",
      " Validation Accuracy : 0.5698000192642212 \n",
      "Epoch 20, CIFAR-10 Batch 1:   Loss : 0.4220085144042969 \n",
      " Validation Accuracy : 0.571399986743927 \n",
      "Epoch 21, CIFAR-10 Batch 1:   Loss : 0.4140705168247223 \n",
      " Validation Accuracy : 0.5630000233650208 \n",
      "Epoch 22, CIFAR-10 Batch 1:   Loss : 0.4013548791408539 \n",
      " Validation Accuracy : 0.5551999807357788 \n",
      "Epoch 23, CIFAR-10 Batch 1:   Loss : 0.3306911885738373 \n",
      " Validation Accuracy : 0.5759999752044678 \n",
      "Epoch 24, CIFAR-10 Batch 1:   Loss : 0.3376280665397644 \n",
      " Validation Accuracy : 0.5590000152587891 \n",
      "Epoch 25, CIFAR-10 Batch 1:   Loss : 0.3182733952999115 \n",
      " Validation Accuracy : 0.5568000078201294 \n",
      "Epoch 26, CIFAR-10 Batch 1:   Loss : 0.25938576459884644 \n",
      " Validation Accuracy : 0.573199987411499 \n",
      "Epoch 27, CIFAR-10 Batch 1:   Loss : 0.2858198285102844 \n",
      " Validation Accuracy : 0.5637999773025513 \n",
      "Epoch 28, CIFAR-10 Batch 1:   Loss : 0.24582120776176453 \n",
      " Validation Accuracy : 0.5691999793052673 \n",
      "Epoch 29, CIFAR-10 Batch 1:   Loss : 0.2223622351884842 \n",
      " Validation Accuracy : 0.5613999962806702 \n",
      "Epoch 30, CIFAR-10 Batch 1:   Loss : 0.2042575627565384 \n",
      " Validation Accuracy : 0.5651999711990356 \n"
     ]
    }
   ],
   "source": [
    "\"\"\"\n",
    "DON'T MODIFY ANYTHING IN THIS CELL\n",
    "\"\"\"\n",
    "print('Checking the Training on a Single Batch...')\n",
    "with tf.Session() as sess:\n",
    "    # Initializing the variables\n",
    "    sess.run(tf.global_variables_initializer())\n",
    "    \n",
    "    # Training cycle\n",
    "    for epoch in range(epochs):\n",
    "        batch_i = 1\n",
    "        for batch_features, batch_labels in helper.load_preprocess_training_batch(batch_i, batch_size):\n",
    "            train_neural_network(sess, optimizer, keep_probability, batch_features, batch_labels)\n",
    "        print('Epoch {:>2}, CIFAR-10 Batch {}:  '.format(epoch + 1, batch_i), end='')\n",
    "        print_stats(sess, batch_features, batch_labels, cost, accuracy)"
   ]
  },
  {
   "cell_type": "markdown",
   "metadata": {},
   "source": [
    "### Fully Train the Model\n",
    "Now that you got a good accuracy with a single CIFAR-10 batch, try it with all five batches."
   ]
  },
  {
   "cell_type": "code",
   "execution_count": 36,
   "metadata": {
    "collapsed": false
   },
   "outputs": [
    {
     "name": "stdout",
     "output_type": "stream",
     "text": [
      "Training...\n",
      "Epoch  1, CIFAR-10 Batch 1:   Loss : 2.1511664390563965 \n",
      " Validation Accuracy : 0.2655999958515167 \n",
      "Epoch  1, CIFAR-10 Batch 2:   Loss : 1.7388906478881836 \n",
      " Validation Accuracy : 0.3725999891757965 \n",
      "Epoch  1, CIFAR-10 Batch 3:   Loss : 1.4195324182510376 \n",
      " Validation Accuracy : 0.40400001406669617 \n",
      "Epoch  1, CIFAR-10 Batch 4:   Loss : 1.4870679378509521 \n",
      " Validation Accuracy : 0.44519999623298645 \n",
      "Epoch  1, CIFAR-10 Batch 5:   Loss : 1.5981643199920654 \n",
      " Validation Accuracy : 0.48100000619888306 \n",
      "Epoch  2, CIFAR-10 Batch 1:   Loss : 1.6454614400863647 \n",
      " Validation Accuracy : 0.49619999527931213 \n",
      "Epoch  2, CIFAR-10 Batch 2:   Loss : 1.405287504196167 \n",
      " Validation Accuracy : 0.5041999816894531 \n",
      "Epoch  2, CIFAR-10 Batch 3:   Loss : 1.1803257465362549 \n",
      " Validation Accuracy : 0.503600001335144 \n",
      "Epoch  2, CIFAR-10 Batch 4:   Loss : 1.1634774208068848 \n",
      " Validation Accuracy : 0.5351999998092651 \n",
      "Epoch  2, CIFAR-10 Batch 5:   Loss : 1.3833401203155518 \n",
      " Validation Accuracy : 0.5425999760627747 \n",
      "Epoch  3, CIFAR-10 Batch 1:   Loss : 1.4128338098526 \n",
      " Validation Accuracy : 0.5383999943733215 \n",
      "Epoch  3, CIFAR-10 Batch 2:   Loss : 1.202288031578064 \n",
      " Validation Accuracy : 0.5504000186920166 \n",
      "Epoch  3, CIFAR-10 Batch 3:   Loss : 1.060997724533081 \n",
      " Validation Accuracy : 0.5529999732971191 \n",
      "Epoch  3, CIFAR-10 Batch 4:   Loss : 0.9716824293136597 \n",
      " Validation Accuracy : 0.5730000138282776 \n",
      "Epoch  3, CIFAR-10 Batch 5:   Loss : 1.233150839805603 \n",
      " Validation Accuracy : 0.5813999772071838 \n",
      "Epoch  4, CIFAR-10 Batch 1:   Loss : 1.2999155521392822 \n",
      " Validation Accuracy : 0.576200008392334 \n",
      "Epoch  4, CIFAR-10 Batch 2:   Loss : 1.1243327856063843 \n",
      " Validation Accuracy : 0.5824000239372253 \n",
      "Epoch  4, CIFAR-10 Batch 3:   Loss : 0.9738507270812988 \n",
      " Validation Accuracy : 0.5788000226020813 \n",
      "Epoch  4, CIFAR-10 Batch 4:   Loss : 0.850275993347168 \n",
      " Validation Accuracy : 0.5997999906539917 \n",
      "Epoch  4, CIFAR-10 Batch 5:   Loss : 1.0865609645843506 \n",
      " Validation Accuracy : 0.6025999784469604 \n",
      "Epoch  5, CIFAR-10 Batch 1:   Loss : 1.229200005531311 \n",
      " Validation Accuracy : 0.5763999819755554 \n",
      "Epoch  5, CIFAR-10 Batch 2:   Loss : 1.0233232975006104 \n",
      " Validation Accuracy : 0.6047999858856201 \n",
      "Epoch  5, CIFAR-10 Batch 3:   Loss : 0.8748461008071899 \n",
      " Validation Accuracy : 0.6068000197410583 \n",
      "Epoch  5, CIFAR-10 Batch 4:   Loss : 0.7600778341293335 \n",
      " Validation Accuracy : 0.6151999831199646 \n",
      "Epoch  5, CIFAR-10 Batch 5:   Loss : 1.0083757638931274 \n",
      " Validation Accuracy : 0.621399998664856 \n",
      "Epoch  6, CIFAR-10 Batch 1:   Loss : 1.1995834112167358 \n",
      " Validation Accuracy : 0.6097999811172485 \n",
      "Epoch  6, CIFAR-10 Batch 2:   Loss : 0.9788638949394226 \n",
      " Validation Accuracy : 0.6215999722480774 \n",
      "Epoch  6, CIFAR-10 Batch 3:   Loss : 0.7473512291908264 \n",
      " Validation Accuracy : 0.6128000020980835 \n",
      "Epoch  6, CIFAR-10 Batch 4:   Loss : 0.694359302520752 \n",
      " Validation Accuracy : 0.626800000667572 \n",
      "Epoch  6, CIFAR-10 Batch 5:   Loss : 0.949581503868103 \n",
      " Validation Accuracy : 0.628000020980835 \n",
      "Epoch  7, CIFAR-10 Batch 1:   Loss : 1.0761574506759644 \n",
      " Validation Accuracy : 0.5961999893188477 \n",
      "Epoch  7, CIFAR-10 Batch 2:   Loss : 0.8835428357124329 \n",
      " Validation Accuracy : 0.6290000081062317 \n",
      "Epoch  7, CIFAR-10 Batch 3:   Loss : 0.6783095598220825 \n",
      " Validation Accuracy : 0.625 \n",
      "Epoch  7, CIFAR-10 Batch 4:   Loss : 0.6736081838607788 \n",
      " Validation Accuracy : 0.6380000114440918 \n",
      "Epoch  7, CIFAR-10 Batch 5:   Loss : 0.8157398104667664 \n",
      " Validation Accuracy : 0.6407999992370605 \n",
      "Epoch  8, CIFAR-10 Batch 1:   Loss : 0.993368923664093 \n",
      " Validation Accuracy : 0.6028000116348267 \n",
      "Epoch  8, CIFAR-10 Batch 2:   Loss : 0.7850435376167297 \n",
      " Validation Accuracy : 0.6399999856948853 \n",
      "Epoch  8, CIFAR-10 Batch 3:   Loss : 0.6296144723892212 \n",
      " Validation Accuracy : 0.6467999815940857 \n",
      "Epoch  8, CIFAR-10 Batch 4:   Loss : 0.6131789088249207 \n",
      " Validation Accuracy : 0.6388000249862671 \n",
      "Epoch  8, CIFAR-10 Batch 5:   Loss : 0.7447898387908936 \n",
      " Validation Accuracy : 0.6444000005722046 \n",
      "Epoch  9, CIFAR-10 Batch 1:   Loss : 0.9334508776664734 \n",
      " Validation Accuracy : 0.618399977684021 \n",
      "Epoch  9, CIFAR-10 Batch 2:   Loss : 0.7160607576370239 \n",
      " Validation Accuracy : 0.6389999985694885 \n",
      "Epoch  9, CIFAR-10 Batch 3:   Loss : 0.5205302238464355 \n",
      " Validation Accuracy : 0.6485999822616577 \n",
      "Epoch  9, CIFAR-10 Batch 4:   Loss : 0.508714497089386 \n",
      " Validation Accuracy : 0.650600016117096 \n",
      "Epoch  9, CIFAR-10 Batch 5:   Loss : 0.6290616989135742 \n",
      " Validation Accuracy : 0.6489999890327454 \n",
      "Epoch 10, CIFAR-10 Batch 1:   Loss : 0.911613941192627 \n",
      " Validation Accuracy : 0.6295999884605408 \n",
      "Epoch 10, CIFAR-10 Batch 2:   Loss : 0.6799370646476746 \n",
      " Validation Accuracy : 0.6466000080108643 \n",
      "Epoch 10, CIFAR-10 Batch 3:   Loss : 0.505601704120636 \n",
      " Validation Accuracy : 0.6547999978065491 \n",
      "Epoch 10, CIFAR-10 Batch 4:   Loss : 0.45632821321487427 \n",
      " Validation Accuracy : 0.6585999727249146 \n",
      "Epoch 10, CIFAR-10 Batch 5:   Loss : 0.5722521543502808 \n",
      " Validation Accuracy : 0.6567999720573425 \n",
      "Epoch 11, CIFAR-10 Batch 1:   Loss : 0.7993680834770203 \n",
      " Validation Accuracy : 0.6277999877929688 \n",
      "Epoch 11, CIFAR-10 Batch 2:   Loss : 0.5045877695083618 \n",
      " Validation Accuracy : 0.656000018119812 \n",
      "Epoch 11, CIFAR-10 Batch 3:   Loss : 0.434528648853302 \n",
      " Validation Accuracy : 0.6585999727249146 \n",
      "Epoch 11, CIFAR-10 Batch 4:   Loss : 0.4405309557914734 \n",
      " Validation Accuracy : 0.6607999801635742 \n",
      "Epoch 11, CIFAR-10 Batch 5:   Loss : 0.5133928060531616 \n",
      " Validation Accuracy : 0.6650000214576721 \n",
      "Epoch 12, CIFAR-10 Batch 1:   Loss : 0.7952272295951843 \n",
      " Validation Accuracy : 0.6389999985694885 \n",
      "Epoch 12, CIFAR-10 Batch 2:   Loss : 0.5141831636428833 \n",
      " Validation Accuracy : 0.6565999984741211 \n",
      "Epoch 12, CIFAR-10 Batch 3:   Loss : 0.36903807520866394 \n",
      " Validation Accuracy : 0.6715999841690063 \n",
      "Epoch 12, CIFAR-10 Batch 4:   Loss : 0.40767183899879456 \n",
      " Validation Accuracy : 0.6651999950408936 \n",
      "Epoch 12, CIFAR-10 Batch 5:   Loss : 0.49883022904396057 \n",
      " Validation Accuracy : 0.6534000039100647 \n",
      "Epoch 13, CIFAR-10 Batch 1:   Loss : 0.7069625854492188 \n",
      " Validation Accuracy : 0.6358000040054321 \n",
      "Epoch 13, CIFAR-10 Batch 2:   Loss : 0.47130218148231506 \n",
      " Validation Accuracy : 0.6632000207901001 \n",
      "Epoch 13, CIFAR-10 Batch 3:   Loss : 0.3279929757118225 \n",
      " Validation Accuracy : 0.6674000024795532 \n",
      "Epoch 13, CIFAR-10 Batch 4:   Loss : 0.36061927676200867 \n",
      " Validation Accuracy : 0.6632000207901001 \n",
      "Epoch 13, CIFAR-10 Batch 5:   Loss : 0.4256718158721924 \n",
      " Validation Accuracy : 0.6557999849319458 \n",
      "Epoch 14, CIFAR-10 Batch 1:   Loss : 0.6367388963699341 \n",
      " Validation Accuracy : 0.6517999768257141 \n",
      "Epoch 14, CIFAR-10 Batch 2:   Loss : 0.46293678879737854 \n",
      " Validation Accuracy : 0.6503999829292297 \n",
      "Epoch 14, CIFAR-10 Batch 3:   Loss : 0.31261855363845825 \n",
      " Validation Accuracy : 0.6714000105857849 \n",
      "Epoch 14, CIFAR-10 Batch 4:   Loss : 0.362582266330719 \n",
      " Validation Accuracy : 0.6624000072479248 \n",
      "Epoch 14, CIFAR-10 Batch 5:   Loss : 0.3677551746368408 \n",
      " Validation Accuracy : 0.6611999869346619 \n",
      "Epoch 15, CIFAR-10 Batch 1:   Loss : 0.610397219657898 \n",
      " Validation Accuracy : 0.6549999713897705 \n",
      "Epoch 15, CIFAR-10 Batch 2:   Loss : 0.4046856760978699 \n",
      " Validation Accuracy : 0.6625999808311462 \n",
      "Epoch 15, CIFAR-10 Batch 3:   Loss : 0.27258414030075073 \n",
      " Validation Accuracy : 0.6765999794006348 \n",
      "Epoch 15, CIFAR-10 Batch 4:   Loss : 0.3316194415092468 \n",
      " Validation Accuracy : 0.6632000207901001 \n",
      "Epoch 15, CIFAR-10 Batch 5:   Loss : 0.3529869019985199 \n",
      " Validation Accuracy : 0.6664000153541565 \n",
      "Epoch 16, CIFAR-10 Batch 1:   Loss : 0.6003454923629761 \n",
      " Validation Accuracy : 0.659600019454956 \n",
      "Epoch 16, CIFAR-10 Batch 2:   Loss : 0.3996208608150482 \n",
      " Validation Accuracy : 0.6521999835968018 \n",
      "Epoch 16, CIFAR-10 Batch 3:   Loss : 0.22853322327136993 \n",
      " Validation Accuracy : 0.6723999977111816 \n",
      "Epoch 16, CIFAR-10 Batch 4:   Loss : 0.2927384078502655 \n",
      " Validation Accuracy : 0.6621999740600586 \n",
      "Epoch 16, CIFAR-10 Batch 5:   Loss : 0.28588971495628357 \n",
      " Validation Accuracy : 0.6650000214576721 \n",
      "Epoch 17, CIFAR-10 Batch 1:   Loss : 0.6185421943664551 \n",
      " Validation Accuracy : 0.6646000146865845 \n",
      "Epoch 17, CIFAR-10 Batch 2:   Loss : 0.32785195112228394 \n",
      " Validation Accuracy : 0.6507999897003174 \n",
      "Epoch 17, CIFAR-10 Batch 3:   Loss : 0.21598565578460693 \n",
      " Validation Accuracy : 0.6705999970436096 \n",
      "Epoch 17, CIFAR-10 Batch 4:   Loss : 0.2980324625968933 \n",
      " Validation Accuracy : 0.6592000126838684 \n",
      "Epoch 17, CIFAR-10 Batch 5:   Loss : 0.29503726959228516 \n",
      " Validation Accuracy : 0.6416000127792358 \n",
      "Epoch 18, CIFAR-10 Batch 1:   Loss : 0.5983799695968628 \n",
      " Validation Accuracy : 0.6547999978065491 \n",
      "Epoch 18, CIFAR-10 Batch 2:   Loss : 0.2406274378299713 \n",
      " Validation Accuracy : 0.6656000018119812 \n",
      "Epoch 18, CIFAR-10 Batch 3:   Loss : 0.21609584987163544 \n",
      " Validation Accuracy : 0.6696000099182129 \n",
      "Epoch 18, CIFAR-10 Batch 4:   Loss : 0.22139997780323029 \n",
      " Validation Accuracy : 0.6672000288963318 \n",
      "Epoch 18, CIFAR-10 Batch 5:   Loss : 0.27160778641700745 \n",
      " Validation Accuracy : 0.6452000141143799 \n",
      "Epoch 19, CIFAR-10 Batch 1:   Loss : 0.5172524452209473 \n",
      " Validation Accuracy : 0.6583999991416931 \n",
      "Epoch 19, CIFAR-10 Batch 2:   Loss : 0.19177620112895966 \n",
      " Validation Accuracy : 0.6614000201225281 \n",
      "Epoch 19, CIFAR-10 Batch 3:   Loss : 0.19700808823108673 \n",
      " Validation Accuracy : 0.6624000072479248 \n",
      "Epoch 19, CIFAR-10 Batch 4:   Loss : 0.2279941290616989 \n",
      " Validation Accuracy : 0.6647999882698059 \n",
      "Epoch 19, CIFAR-10 Batch 5:   Loss : 0.2667985260486603 \n",
      " Validation Accuracy : 0.6420000195503235 \n",
      "Epoch 20, CIFAR-10 Batch 1:   Loss : 0.4295455813407898 \n",
      " Validation Accuracy : 0.6546000242233276 \n",
      "Epoch 20, CIFAR-10 Batch 2:   Loss : 0.22646360099315643 \n",
      " Validation Accuracy : 0.6632000207901001 \n",
      "Epoch 20, CIFAR-10 Batch 3:   Loss : 0.18343910574913025 \n",
      " Validation Accuracy : 0.6674000024795532 \n",
      "Epoch 20, CIFAR-10 Batch 4:   Loss : 0.1968722641468048 \n",
      " Validation Accuracy : 0.6614000201225281 \n",
      "Epoch 20, CIFAR-10 Batch 5:   Loss : 0.20969124138355255 \n",
      " Validation Accuracy : 0.6571999788284302 \n",
      "Epoch 21, CIFAR-10 Batch 1:   Loss : 0.4319419860839844 \n",
      " Validation Accuracy : 0.6585999727249146 \n",
      "Epoch 21, CIFAR-10 Batch 2:   Loss : 0.1420462429523468 \n",
      " Validation Accuracy : 0.6665999889373779 \n",
      "Epoch 21, CIFAR-10 Batch 3:   Loss : 0.17233744263648987 \n",
      " Validation Accuracy : 0.65420001745224 \n",
      "Epoch 21, CIFAR-10 Batch 4:   Loss : 0.1564299315214157 \n",
      " Validation Accuracy : 0.6657999753952026 \n",
      "Epoch 21, CIFAR-10 Batch 5:   Loss : 0.2001752108335495 \n",
      " Validation Accuracy : 0.6484000086784363 \n",
      "Epoch 22, CIFAR-10 Batch 1:   Loss : 0.3559463620185852 \n",
      " Validation Accuracy : 0.6675999760627747 \n",
      "Epoch 22, CIFAR-10 Batch 2:   Loss : 0.12813159823417664 \n",
      " Validation Accuracy : 0.6700000166893005 \n",
      "Epoch 22, CIFAR-10 Batch 3:   Loss : 0.15108303725719452 \n",
      " Validation Accuracy : 0.6654000282287598 \n",
      "Epoch 22, CIFAR-10 Batch 4:   Loss : 0.1777908354997635 \n",
      " Validation Accuracy : 0.6646000146865845 \n",
      "Epoch 22, CIFAR-10 Batch 5:   Loss : 0.19400304555892944 \n",
      " Validation Accuracy : 0.6484000086784363 \n",
      "Epoch 23, CIFAR-10 Batch 1:   Loss : 0.35205912590026855 \n",
      " Validation Accuracy : 0.652999997138977 \n",
      "Epoch 23, CIFAR-10 Batch 2:   Loss : 0.14537997543811798 \n",
      " Validation Accuracy : 0.6651999950408936 \n",
      "Epoch 23, CIFAR-10 Batch 3:   Loss : 0.15633979439735413 \n",
      " Validation Accuracy : 0.6561999917030334 \n",
      "Epoch 23, CIFAR-10 Batch 4:   Loss : 0.14658676087856293 \n",
      " Validation Accuracy : 0.6638000011444092 \n",
      "Epoch 23, CIFAR-10 Batch 5:   Loss : 0.1633373200893402 \n",
      " Validation Accuracy : 0.6516000032424927 \n",
      "Epoch 24, CIFAR-10 Batch 1:   Loss : 0.3431917130947113 \n",
      " Validation Accuracy : 0.6642000079154968 \n",
      "Epoch 24, CIFAR-10 Batch 2:   Loss : 0.11088333278894424 \n",
      " Validation Accuracy : 0.6679999828338623 \n",
      "Epoch 24, CIFAR-10 Batch 3:   Loss : 0.11370239406824112 \n",
      " Validation Accuracy : 0.6700000166893005 \n",
      "Epoch 24, CIFAR-10 Batch 4:   Loss : 0.14591538906097412 \n",
      " Validation Accuracy : 0.6574000120162964 \n",
      "Epoch 24, CIFAR-10 Batch 5:   Loss : 0.1362607777118683 \n",
      " Validation Accuracy : 0.6589999794960022 \n",
      "Epoch 25, CIFAR-10 Batch 1:   Loss : 0.28759196400642395 \n",
      " Validation Accuracy : 0.6431999802589417 \n",
      "Epoch 25, CIFAR-10 Batch 2:   Loss : 0.10756232589483261 \n",
      " Validation Accuracy : 0.6693999767303467 \n",
      "Epoch 25, CIFAR-10 Batch 3:   Loss : 0.1272871494293213 \n",
      " Validation Accuracy : 0.6481999754905701 \n",
      "Epoch 25, CIFAR-10 Batch 4:   Loss : 0.1337459534406662 \n",
      " Validation Accuracy : 0.6607999801635742 \n",
      "Epoch 25, CIFAR-10 Batch 5:   Loss : 0.15128396451473236 \n",
      " Validation Accuracy : 0.6547999978065491 \n",
      "Epoch 26, CIFAR-10 Batch 1:   Loss : 0.25568103790283203 \n",
      " Validation Accuracy : 0.6543999910354614 \n",
      "Epoch 26, CIFAR-10 Batch 2:   Loss : 0.11761701107025146 \n",
      " Validation Accuracy : 0.6651999950408936 \n",
      "Epoch 26, CIFAR-10 Batch 3:   Loss : 0.10889282077550888 \n",
      " Validation Accuracy : 0.6514000296592712 \n",
      "Epoch 26, CIFAR-10 Batch 4:   Loss : 0.13765506446361542 \n",
      " Validation Accuracy : 0.6620000004768372 \n",
      "Epoch 26, CIFAR-10 Batch 5:   Loss : 0.11355113983154297 \n",
      " Validation Accuracy : 0.6561999917030334 \n",
      "Epoch 27, CIFAR-10 Batch 1:   Loss : 0.2630816400051117 \n",
      " Validation Accuracy : 0.6484000086784363 \n",
      "Epoch 27, CIFAR-10 Batch 2:   Loss : 0.13441389799118042 \n",
      " Validation Accuracy : 0.6597999930381775 \n",
      "Epoch 27, CIFAR-10 Batch 3:   Loss : 0.11757583916187286 \n",
      " Validation Accuracy : 0.6525999903678894 \n",
      "Epoch 27, CIFAR-10 Batch 4:   Loss : 0.13542616367340088 \n",
      " Validation Accuracy : 0.6629999876022339 \n",
      "Epoch 27, CIFAR-10 Batch 5:   Loss : 0.09778568893671036 \n",
      " Validation Accuracy : 0.6656000018119812 \n",
      "Epoch 28, CIFAR-10 Batch 1:   Loss : 0.2422502338886261 \n",
      " Validation Accuracy : 0.6425999999046326 \n",
      "Epoch 28, CIFAR-10 Batch 2:   Loss : 0.11036292463541031 \n",
      " Validation Accuracy : 0.6557999849319458 \n",
      "Epoch 28, CIFAR-10 Batch 3:   Loss : 0.12092757225036621 \n",
      " Validation Accuracy : 0.6381999850273132 \n",
      "Epoch 28, CIFAR-10 Batch 4:   Loss : 0.20726314187049866 \n",
      " Validation Accuracy : 0.6462000012397766 \n",
      "Epoch 28, CIFAR-10 Batch 5:   Loss : 0.09819667041301727 \n",
      " Validation Accuracy : 0.6499999761581421 \n",
      "Epoch 29, CIFAR-10 Batch 1:   Loss : 0.20935551822185516 \n",
      " Validation Accuracy : 0.6470000147819519 \n",
      "Epoch 29, CIFAR-10 Batch 2:   Loss : 0.11562013626098633 \n",
      " Validation Accuracy : 0.6603999733924866 \n",
      "Epoch 29, CIFAR-10 Batch 3:   Loss : 0.10385680198669434 \n",
      " Validation Accuracy : 0.6517999768257141 \n",
      "Epoch 29, CIFAR-10 Batch 4:   Loss : 0.1264857053756714 \n",
      " Validation Accuracy : 0.6460000276565552 \n",
      "Epoch 29, CIFAR-10 Batch 5:   Loss : 0.08390986919403076 \n",
      " Validation Accuracy : 0.6579999923706055 \n",
      "Epoch 30, CIFAR-10 Batch 1:   Loss : 0.217448428273201 \n",
      " Validation Accuracy : 0.6470000147819519 \n",
      "Epoch 30, CIFAR-10 Batch 2:   Loss : 0.15076415240764618 \n",
      " Validation Accuracy : 0.6593999862670898 \n",
      "Epoch 30, CIFAR-10 Batch 3:   Loss : 0.11687159538269043 \n",
      " Validation Accuracy : 0.6385999917984009 \n",
      "Epoch 30, CIFAR-10 Batch 4:   Loss : 0.10091390460729599 \n",
      " Validation Accuracy : 0.6424000263214111 \n",
      "Epoch 30, CIFAR-10 Batch 5:   Loss : 0.07553830742835999 \n",
      " Validation Accuracy : 0.6510000228881836 \n"
     ]
    }
   ],
   "source": [
    "\"\"\"\n",
    "DON'T MODIFY ANYTHING IN THIS CELL\n",
    "\"\"\"\n",
    "save_model_path = './image_classification'\n",
    "\n",
    "print('Training...')\n",
    "with tf.Session() as sess:\n",
    "    # Initializing the variables\n",
    "    sess.run(tf.global_variables_initializer())\n",
    "    \n",
    "    # Training cycle\n",
    "    for epoch in range(epochs):\n",
    "        # Loop over all batches\n",
    "        n_batches = 5\n",
    "        for batch_i in range(1, n_batches + 1):\n",
    "            for batch_features, batch_labels in helper.load_preprocess_training_batch(batch_i, batch_size):\n",
    "                train_neural_network(sess, optimizer, keep_probability, batch_features, batch_labels)\n",
    "            print('Epoch {:>2}, CIFAR-10 Batch {}:  '.format(epoch + 1, batch_i), end='')\n",
    "            print_stats(sess, batch_features, batch_labels, cost, accuracy)\n",
    "            \n",
    "    # Save Model\n",
    "    saver = tf.train.Saver()\n",
    "    save_path = saver.save(sess, save_model_path)"
   ]
  },
  {
   "cell_type": "markdown",
   "metadata": {},
   "source": [
    "# Checkpoint\n",
    "The model has been saved to disk.\n",
    "## Test Model\n",
    "Test your model against the test dataset.  This will be your final accuracy. You should have an accuracy greater than 50%. If you don't, keep tweaking the model architecture and parameters."
   ]
  },
  {
   "cell_type": "code",
   "execution_count": 37,
   "metadata": {
    "collapsed": false
   },
   "outputs": [
    {
     "name": "stdout",
     "output_type": "stream",
     "text": [
      "Testing Accuracy: 0.6518987341772152\n",
      "\n"
     ]
    },
    {
     "data": {
      "image/png": "[encoded data removed]",
      "text/plain": [
       "<matplotlib.figure.Figure at 0x109e51f60>"
      ]
     },
     "metadata": {
      "image/png": {
       "height": 319,
       "width": 355
      }
     },
     "output_type": "display_data"
    }
   ],
   "source": [
    "\"\"\"\n",
    "DON'T MODIFY ANYTHING IN THIS CELL\n",
    "\"\"\"\n",
    "%matplotlib inline\n",
    "%config InlineBackend.figure_format = 'retina'\n",
    "\n",
    "import tensorflow as tf\n",
    "import pickle\n",
    "import helper\n",
    "import random\n",
    "\n",
    "# Set batch size if not already set\n",
    "try:\n",
    "    if batch_size:\n",
    "        pass\n",
    "except NameError:\n",
    "    batch_size = 64\n",
    "\n",
    "save_model_path = './image_classification'\n",
    "n_samples = 4\n",
    "top_n_predictions = 3\n",
    "\n",
    "def test_model():\n",
    "    \"\"\"\n",
    "    Test the saved model against the test dataset\n",
    "    \"\"\"\n",
    "\n",
    "    test_features, test_labels = pickle.load(open('preprocess_training.p', mode='rb'))\n",
    "    loaded_graph = tf.Graph()\n",
    "\n",
    "    with tf.Session(graph=loaded_graph) as sess:\n",
    "        # Load model\n",
    "        loader = tf.train.import_meta_graph(save_model_path + '.meta')\n",
    "        loader.restore(sess, save_model_path)\n",
    "\n",
    "        # Get Tensors from loaded model\n",
    "        loaded_x = loaded_graph.get_tensor_by_name('x:0')\n",
    "        loaded_y = loaded_graph.get_tensor_by_name('y:0')\n",
    "        loaded_keep_prob = loaded_graph.get_tensor_by_name('keep_prob:0')\n",
    "        loaded_logits = loaded_graph.get_tensor_by_name('logits:0')\n",
    "        loaded_acc = loaded_graph.get_tensor_by_name('accuracy:0')\n",
    "        \n",
    "        # Get accuracy in batches for memory limitations\n",
    "        test_batch_acc_total = 0\n",
    "        test_batch_count = 0\n",
    "        \n",
    "        for train_feature_batch, train_label_batch in helper.batch_features_labels(test_features, test_labels, batch_size):\n",
    "            test_batch_acc_total += sess.run(\n",
    "                loaded_acc,\n",
    "                feed_dict={loaded_x: train_feature_batch, loaded_y: train_label_batch, loaded_keep_prob: 1.0})\n",
    "            test_batch_count += 1\n",
    "\n",
    "        print('Testing Accuracy: {}\\n'.format(test_batch_acc_total/test_batch_count))\n",
    "\n",
    "        # Print Random Samples\n",
    "        random_test_features, random_test_labels = tuple(zip(*random.sample(list(zip(test_features, test_labels)), n_samples)))\n",
    "        random_test_predictions = sess.run(\n",
    "            tf.nn.top_k(tf.nn.softmax(loaded_logits), top_n_predictions),\n",
    "            feed_dict={loaded_x: random_test_features, loaded_y: random_test_labels, loaded_keep_prob: 1.0})\n",
    "        helper.display_image_predictions(random_test_features, random_test_labels, random_test_predictions)\n",
    "\n",
    "\n",
    "test_model()"
   ]
  },
  {
   "cell_type": "markdown",
   "metadata": {},
   "source": [
    "## Why 50-70% Accuracy?\n",
    "You might be wondering why you can't get an accuracy any higher. First things first, 50% isn't bad for a simple CNN.  Pure guessing would get you 10% accuracy. However, you might notice people are getting scores [well above 70%](http://rodrigob.github.io/are_we_there_yet/build/classification_datasets_results.html#43494641522d3130).  That's because we haven't taught you all there is to know about neural networks. We still need to cover a few more techniques.\n",
    "## Submitting This Project\n",
    "When submitting this project, make sure to run all the cells before saving the notebook.  Save the notebook file as \"dlnd_image_classification.ipynb\" and save it as a HTML file under \"File\" -> \"Download as\".  Include the \"helper.py\" and \"problem_unittests.py\" files in your submission."
   ]
  }
 ],
 "metadata": {
  "kernelspec": {
   "display_name": "Python 3",
   "language": "python",
   "name": "python3"
  },
  "language_info": {
   "codemirror_mode": {
    "name": "ipython",
    "version": 3
   },
   "file_extension": ".py",
   "mimetype": "text/x-python",
   "name": "python",
   "nbconvert_exporter": "python",
   "pygments_lexer": "ipython3",
   "version": "3.5.3"
  }
 },
 "nbformat": 4,
 "nbformat_minor": 0
}
